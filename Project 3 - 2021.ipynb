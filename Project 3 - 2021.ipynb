{
 "cells": [
  {
   "cell_type": "markdown",
   "id": "929768c5",
   "metadata": {},
   "source": [
    "# Project 3 - 2021\n",
    "\n",
    "Hello! Here's the [repo](https://github.com/XxX-Daniil-underscore-Zaikin-XxX/Daniil-Zaikin-2504-2021-PROJECT3).\n",
    "\n",
    "## Writeup\n",
    "\n",
    "Maithili was, one day, and learned to read via mathematics textbook titles. This is because her uncle - who has a pHD - was a sadist, and her father - who has two pHDs - was an enabler.\n",
    "\n",
    "A short amount of time later, she found herself likewise pHD-full, and fortunately not jobless. This was soon to change; her travel plans would leave her too far away from work to work. And eighteen years later, she travelled - to another job. And then once more, right back into the scheduling and journey planning, but this time not eighteen years later.\n",
    "\n",
    "Thus began Maithili's current tenure at \"You. Smart. Thing.\", a small company with a big presence. She is one of the four software engineers on the team, and the only software engineer based in Australia. Which is not to say that she works only as a software engineer - when it comes down to a team size of one, every now and again there are probably a few other things that need doing.\n",
    "\n",
    "But she enjoys it, as it's right up the alley alongside other things she enjoys (such as algorithms). To be fair, I have no choice but to take her word on that.\n",
    "\n",
    "In terms of tools? She's used a lot. Languages, cloud things, tried and tested algorithms, made-up and untested algorithms, augmented reality - all fair game. And that's fair enough - gone are the days when software engineers could satisfy their employer with a stack half-full.\n",
    "\n",
    "For the bottom blocks, in that case, she prefers to use heavily object-oriented languages such as C and Java. For frontends, React worked well. And for everything in the middle and around, she'd have the cloud (e.g. AWS), virtualisation and containerisation (e.g. Docker, Kubernetes), and (I assume) a few dev-ops things too.\n",
    "\n",
    "But there was never a hard-and-fast toolbox. Take mining, for example - it generally takes place underground. There are powerful computers underground, but no internet. Suddenly, you can use heavyweight algorithms, but you're left without a cloud.\n",
    "\n",
    "When it comes down to it, a good take-away from her experience is that flexibility and creativity aren't bad to have. Many languages, past their syntax frosting, use identical data structures and algorithms - so to know those is good. Many services, cloud or otherwise, heavily favor a system or language - so it's good to know those too. And because knowing everything is impossible, it's useful to have experience ending tumbles down metaphorical dark staircases with an intact spine.\n",
    "\n",
    "And when it comes down to knowledge, companies probably avoid hiring unfireable people; a reliable way to become unfireable is to consistently write complex, unreadable, and undocumented code. While it's undeniably very funny to do (and undeniably funnier to debug), I'd argue Maithili also implicitly stressed that fellow engineers (and potential recruiters) should at least be in on the punchline.\n",
    "\n",
    "## Task 1\n",
    "\n",
    "![](output\\task1.1.png)\n",
    "![](output\\task1.2.png)\n",
    "![](output\\task1.3.png)\n",
    "![](output\\task1.4.png)\n",
    "![](output\\task1.5.png)\n",
    "\n",
    "## Task 2\n",
    "From the below chart, it appears as if increasing the number of rooms in a house also increases its price.\n",
    "![](output\\task2.1.png)\n",
    "This one below demonstrates that while there is little difference in the median prices of houses near to and far from the CBD, the price range of the former is far greater.\n",
    "![](output\\task2.2.png)\n",
    "And this final one shows that a good deal of the most expensive propterties aren't, in fact, point-blank to the CBD. There also appears to be a good amount of three-dimensional lines you could draw parallel to the XY plane that would cover few-roomed properties close to the CBD, and many-roomed properties further away. Note that the Z-axis labels are off-kilter; this is due to (I believe) an issue with the package, as the tick marks themselves are placed where they should be.\n",
    "![](output\\task2.3.png)\n",
    "\n",
    "\n",
    "## Task 3\n",
    "\n",
    "![](output\\task3.1.png)\n",
    "![](output\\task3.2.png)\n",
    "![](output\\task3.3.png)\n",
    "\n",
    "## Task 4\n",
    "\n",
    "The function that accomplishes this task is `get_postcode` in `task4.jl`."
   ]
  },
  {
   "cell_type": "code",
   "execution_count": null,
   "id": "6500da82",
   "metadata": {},
   "outputs": [],
   "source": []
  }
 ],
 "metadata": {
  "kernelspec": {
   "display_name": "Julia 1.6.2",
   "language": "julia",
   "name": "julia-1.6"
  },
  "language_info": {
   "file_extension": ".jl",
   "mimetype": "application/julia",
   "name": "julia",
   "version": "1.6.2"
  }
 },
 "nbformat": 4,
 "nbformat_minor": 5
}
